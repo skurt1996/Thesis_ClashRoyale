{
  "nbformat": 4,
  "nbformat_minor": 0,
  "metadata": {
    "colab": {
      "provenance": [],
      "machine_shape": "hm"
    },
    "kernelspec": {
      "name": "python3",
      "display_name": "Python 3"
    },
    "language_info": {
      "name": "python"
    }
  },
  "cells": [
    {
      "cell_type": "code",
      "execution_count": null,
      "metadata": {
        "id": "33fz1t3tnTZm"
      },
      "outputs": [],
      "source": [
        "import pandas as pd\n",
        "from sklearn.model_selection import cross_val_score, cross_val_predict, KFold\n",
        "from sklearn.metrics import confusion_matrix, classification_report\n",
        "from sklearn.svm import SVC"
      ]
    },
    {
      "cell_type": "code",
      "source": [
        "data = pd.read_csv(\"/content/battles_2nd_approach.csv\", sep=\";\") # adjust input and sep, if necessary"
      ],
      "metadata": {
        "id": "tubCc7IIngdq"
      },
      "execution_count": null,
      "outputs": []
    },
    {
      "cell_type": "code",
      "source": [
        "y = data[\"winner\"]\n",
        "X = data.drop([\"winner\"], axis = 1)"
      ],
      "metadata": {
        "id": "bKsk3ANeniEd"
      },
      "execution_count": null,
      "outputs": []
    },
    {
      "cell_type": "code",
      "source": [
        "svm = SVC(kernel='linear', C=10, random_state=42) # adjust kernal and c"
      ],
      "metadata": {
        "id": "NKhAy49_njUO"
      },
      "execution_count": null,
      "outputs": []
    },
    {
      "cell_type": "code",
      "source": [
        "kf = KFold(n_splits=5, shuffle=True, random_state=42) # 5 splits, due to large dataset"
      ],
      "metadata": {
        "id": "yj51uQ-fnlhU"
      },
      "execution_count": null,
      "outputs": []
    },
    {
      "cell_type": "code",
      "source": [
        "y_pred_cv = cross_val_predict(svm, X, y, cv=kf)"
      ],
      "metadata": {
        "id": "z07I9Slgnl79"
      },
      "execution_count": null,
      "outputs": []
    },
    {
      "cell_type": "code",
      "source": [
        "report = classification_report(y, y_pred_cv)"
      ],
      "metadata": {
        "id": "JosS7kfGnpBB"
      },
      "execution_count": null,
      "outputs": []
    },
    {
      "cell_type": "code",
      "source": [
        "conf_matrix = confusion_matrix(y, y_pred_cv)"
      ],
      "metadata": {
        "id": "mT0aEj7snqN0"
      },
      "execution_count": null,
      "outputs": []
    },
    {
      "cell_type": "code",
      "source": [
        "print(conf_matrix)"
      ],
      "metadata": {
        "id": "jUP9MYAdnrUm",
        "colab": {
          "base_uri": "https://localhost:8080/"
        },
        "outputId": "57ddb186-f336-4c81-a3c2-651795ade31a"
      },
      "execution_count": null,
      "outputs": [
        {
          "output_type": "stream",
          "name": "stdout",
          "text": [
            "[[22049  3862]\n",
            " [13775  6848]]\n"
          ]
        }
      ]
    },
    {
      "cell_type": "code",
      "source": [
        "print(report)"
      ],
      "metadata": {
        "id": "dZOuFbBRnsYO",
        "colab": {
          "base_uri": "https://localhost:8080/"
        },
        "outputId": "475190fb-6e97-428c-a25d-a8e20e2becf0"
      },
      "execution_count": null,
      "outputs": [
        {
          "output_type": "stream",
          "name": "stdout",
          "text": [
            "              precision    recall  f1-score   support\n",
            "\n",
            "           1       0.62      0.85      0.71     25911\n",
            "           2       0.64      0.33      0.44     20623\n",
            "\n",
            "    accuracy                           0.62     46534\n",
            "   macro avg       0.63      0.59      0.58     46534\n",
            "weighted avg       0.63      0.62      0.59     46534\n",
            "\n"
          ]
        }
      ]
    }
  ]
}