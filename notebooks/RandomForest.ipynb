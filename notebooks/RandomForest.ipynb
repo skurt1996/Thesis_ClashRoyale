{
  "nbformat": 4,
  "nbformat_minor": 0,
  "metadata": {
    "colab": {
      "provenance": []
    },
    "kernelspec": {
      "name": "python3",
      "display_name": "Python 3"
    },
    "language_info": {
      "name": "python"
    }
  },
  "cells": [
    {
      "cell_type": "code",
      "execution_count": null,
      "metadata": {
        "id": "9i3SrbHfAv4W"
      },
      "outputs": [],
      "source": [
        "import pandas as pd\n",
        "from sklearn.ensemble import RandomForestClassifier\n",
        "from sklearn.model_selection import cross_val_score, cross_val_predict, KFold\n",
        "from sklearn.metrics import confusion_matrix, classification_report"
      ]
    },
    {
      "cell_type": "code",
      "source": [
        "data = pd.read_csv(\"/content/battles_1st_approach.csv\") # adjust input and sep, if opening file fails"
      ],
      "metadata": {
        "id": "-5OBx-Ci9OTf"
      },
      "execution_count": null,
      "outputs": []
    },
    {
      "cell_type": "code",
      "source": [
        "y = data[\"winner\"]\n",
        "X = data.drop([\"winner\"], axis = 1)"
      ],
      "metadata": {
        "id": "cqcSmp_P9OWg"
      },
      "execution_count": null,
      "outputs": []
    },
    {
      "cell_type": "code",
      "source": [
        "rlf = RandomForestClassifier()"
      ],
      "metadata": {
        "id": "yDR3WxTjBmwu"
      },
      "execution_count": null,
      "outputs": []
    },
    {
      "cell_type": "code",
      "source": [
        "kf = KFold(n_splits=10, shuffle=True, random_state=42)"
      ],
      "metadata": {
        "id": "U03TVT8aBpSG"
      },
      "execution_count": null,
      "outputs": []
    },
    {
      "cell_type": "code",
      "source": [
        "y_pred_cv = cross_val_predict(rlf, X, y, cv=kf)"
      ],
      "metadata": {
        "id": "BYkqkyIgpKV2"
      },
      "execution_count": null,
      "outputs": []
    },
    {
      "cell_type": "code",
      "source": [
        "report = classification_report(y, y_pred_cv)"
      ],
      "metadata": {
        "id": "_E8XoHuQpKaf"
      },
      "execution_count": null,
      "outputs": []
    },
    {
      "cell_type": "code",
      "source": [
        "conf_matrix = confusion_matrix(y, y_pred_cv)"
      ],
      "metadata": {
        "id": "PuSsrygwpM_W"
      },
      "execution_count": null,
      "outputs": []
    },
    {
      "cell_type": "code",
      "source": [
        "print(conf_matrix)"
      ],
      "metadata": {
        "id": "Lz2BICHECDKG",
        "colab": {
          "base_uri": "https://localhost:8080/"
        },
        "outputId": "7ec6b830-df0e-49ce-9093-fdbdb39563b9"
      },
      "execution_count": null,
      "outputs": [
        {
          "output_type": "stream",
          "name": "stdout",
          "text": [
            "[[20364  5547]\n",
            " [11575  9048]]\n"
          ]
        }
      ]
    },
    {
      "cell_type": "code",
      "source": [
        "print(report)"
      ],
      "metadata": {
        "colab": {
          "base_uri": "https://localhost:8080/"
        },
        "id": "SrJjaj1ApPl_",
        "outputId": "571a51ee-68ac-4209-e8e0-c0a99fac4cc7"
      },
      "execution_count": null,
      "outputs": [
        {
          "output_type": "stream",
          "name": "stdout",
          "text": [
            "              precision    recall  f1-score   support\n",
            "\n",
            "           1       0.64      0.79      0.70     25911\n",
            "           2       0.62      0.44      0.51     20623\n",
            "\n",
            "    accuracy                           0.63     46534\n",
            "   macro avg       0.63      0.61      0.61     46534\n",
            "weighted avg       0.63      0.63      0.62     46534\n",
            "\n"
          ]
        }
      ]
    }
  ]
}