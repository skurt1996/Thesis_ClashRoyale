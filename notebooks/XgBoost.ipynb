{
  "cells": [
    {
      "cell_type": "code",
      "execution_count": null,
      "metadata": {
        "id": "wGCBQG6WDnOT"
      },
      "outputs": [],
      "source": [
        "import pandas as pd\n",
        "from xgboost import XGBClassifier\n",
        "from sklearn.model_selection import KFold, cross_val_score, cross_val_predict\n",
        "from sklearn.metrics import classification_report, confusion_matrix"
      ]
    },
    {
      "cell_type": "code",
      "execution_count": null,
      "metadata": {
        "id": "yuUcQ2jFEXUG"
      },
      "outputs": [],
      "source": [
        "data = pd.read_csv(\"/content/battles_2nd_approach.csv\")  # adjust input and sep, if necessary"
      ]
    },
    {
      "cell_type": "code",
      "execution_count": null,
      "metadata": {
        "id": "rZaCpPqZEXWt"
      },
      "outputs": [],
      "source": [
        "data['winner'] = data['winner'].replace({1: 0, 2: 1}) # needed for xgboost\n",
        "y = data[\"winner\"]\n",
        "X = data.drop([\"winner\"], axis = 1)"
      ]
    },
    {
      "cell_type": "code",
      "execution_count": null,
      "metadata": {
        "id": "0oc8CxBsEer0"
      },
      "outputs": [],
      "source": [
        "xgb = XGBClassifier(eval_metric=\"logloss\")"
      ]
    },
    {
      "cell_type": "code",
      "execution_count": null,
      "metadata": {
        "id": "4wgi5t60Eeuk"
      },
      "outputs": [],
      "source": [
        "kf = KFold(n_splits=10, shuffle=True, random_state=42)"
      ]
    },
    {
      "cell_type": "code",
      "execution_count": null,
      "metadata": {
        "id": "5ItUmtsBsETw"
      },
      "outputs": [],
      "source": [
        "y_pred_cv = cross_val_predict(xgb, X, y, cv=kf)"
      ]
    },
    {
      "cell_type": "code",
      "execution_count": null,
      "metadata": {
        "id": "9ddtT7tfsEXh"
      },
      "outputs": [],
      "source": [
        "report = classification_report(y, y_pred_cv)"
      ]
    },
    {
      "cell_type": "code",
      "execution_count": null,
      "metadata": {
        "id": "Kc69mZyDsEZM"
      },
      "outputs": [],
      "source": [
        "conf_matrix = confusion_matrix(y, y_pred_cv)"
      ]
    },
    {
      "cell_type": "code",
      "execution_count": null,
      "metadata": {
        "colab": {
          "base_uri": "https://localhost:8080/"
        },
        "id": "SpzYTW_iExkB",
        "outputId": "06c5e041-5dbb-4a1a-98f9-b09b6824d01a"
      },
      "outputs": [
        {
          "output_type": "stream",
          "name": "stdout",
          "text": [
            "[[19310  6601]\n",
            " [10319 10304]]\n"
          ]
        }
      ],
      "source": [
        "print(conf_matrix)"
      ]
    },
    {
      "cell_type": "code",
      "execution_count": null,
      "metadata": {
        "colab": {
          "base_uri": "https://localhost:8080/"
        },
        "id": "weBlIacZsKxX",
        "outputId": "fe7cb162-9dc0-4654-c102-955636a9932c"
      },
      "outputs": [
        {
          "output_type": "stream",
          "name": "stdout",
          "text": [
            "              precision    recall  f1-score   support\n",
            "\n",
            "           0       0.65      0.75      0.70     25911\n",
            "           1       0.61      0.50      0.55     20623\n",
            "\n",
            "    accuracy                           0.64     46534\n",
            "   macro avg       0.63      0.62      0.62     46534\n",
            "weighted avg       0.63      0.64      0.63     46534\n",
            "\n"
          ]
        }
      ],
      "source": [
        "print(report)"
      ]
    }
  ],
  "metadata": {
    "colab": {
      "provenance": []
    },
    "kernelspec": {
      "display_name": "Python 3",
      "name": "python3"
    },
    "language_info": {
      "name": "python"
    }
  },
  "nbformat": 4,
  "nbformat_minor": 0
}