{
  "nbformat": 4,
  "nbformat_minor": 0,
  "metadata": {
    "colab": {
      "provenance": []
    },
    "kernelspec": {
      "name": "python3",
      "display_name": "Python 3"
    },
    "language_info": {
      "name": "python"
    }
  },
  "cells": [
    {
      "cell_type": "code",
      "execution_count": null,
      "metadata": {
        "id": "3YpAR_cECW_8"
      },
      "outputs": [],
      "source": [
        "import pandas as pd\n",
        "from sklearn.linear_model import LogisticRegression\n",
        "from sklearn.model_selection import cross_val_score, cross_val_predict, KFold\n",
        "from sklearn.metrics import confusion_matrix, classification_report"
      ]
    },
    {
      "cell_type": "code",
      "source": [
        "data = pd.read_csv(\"/content/battles_2nd_approach.csv\")  # adjust input and sep, if necessary"
      ],
      "metadata": {
        "id": "-uOkHJNwCmO_"
      },
      "execution_count": null,
      "outputs": []
    },
    {
      "cell_type": "code",
      "source": [
        "y = data[\"winner\"]\n",
        "X = data.drop([\"winner\"], axis = 1)"
      ],
      "metadata": {
        "id": "kshvkfv1CmR0"
      },
      "execution_count": null,
      "outputs": []
    },
    {
      "cell_type": "code",
      "source": [
        "lr = LogisticRegression()"
      ],
      "metadata": {
        "id": "FIJ2ig-xCmUB"
      },
      "execution_count": null,
      "outputs": []
    },
    {
      "cell_type": "code",
      "source": [
        "kf = KFold(n_splits=10, shuffle=True, random_state=42)"
      ],
      "metadata": {
        "id": "9G60I4Z3Cqod"
      },
      "execution_count": null,
      "outputs": []
    },
    {
      "cell_type": "code",
      "source": [
        "y_pred_cv = cross_val_predict(lr, X, y, cv=kf)"
      ],
      "metadata": {
        "id": "NkPGr9cFwhrm"
      },
      "execution_count": null,
      "outputs": []
    },
    {
      "cell_type": "code",
      "source": [
        "report = classification_report(y, y_pred_cv)"
      ],
      "metadata": {
        "id": "ZU9QChf8whwg"
      },
      "execution_count": null,
      "outputs": []
    },
    {
      "cell_type": "code",
      "source": [
        "conf_matrix = confusion_matrix(y, y_pred_cv)"
      ],
      "metadata": {
        "id": "9gkIgN7RwnU1"
      },
      "execution_count": null,
      "outputs": []
    },
    {
      "cell_type": "code",
      "source": [
        "print(report)"
      ],
      "metadata": {
        "colab": {
          "base_uri": "https://localhost:8080/"
        },
        "id": "HPBEb1VfCqsA",
        "outputId": "06b78b36-c84d-4cdf-ea55-ae16948c964c"
      },
      "execution_count": null,
      "outputs": [
        {
          "output_type": "stream",
          "name": "stdout",
          "text": [
            "              precision    recall  f1-score   support\n",
            "\n",
            "           1       0.63      0.79      0.70     25911\n",
            "           2       0.61      0.41      0.49     20623\n",
            "\n",
            "    accuracy                           0.62     46534\n",
            "   macro avg       0.62      0.60      0.59     46534\n",
            "weighted avg       0.62      0.62      0.61     46534\n",
            "\n"
          ]
        }
      ]
    },
    {
      "cell_type": "code",
      "source": [
        "print(conf_matrix)"
      ],
      "metadata": {
        "colab": {
          "base_uri": "https://localhost:8080/"
        },
        "id": "o54WRP6NwpyZ",
        "outputId": "063e1796-4976-4305-aa8c-8bc0771dbad6"
      },
      "execution_count": null,
      "outputs": [
        {
          "output_type": "stream",
          "name": "stdout",
          "text": [
            "[[20411  5500]\n",
            " [12129  8494]]\n"
          ]
        }
      ]
    }
  ]
}