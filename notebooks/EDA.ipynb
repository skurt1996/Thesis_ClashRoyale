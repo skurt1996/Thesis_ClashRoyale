{
  "nbformat": 4,
  "nbformat_minor": 0,
  "metadata": {
    "colab": {
      "provenance": []
    },
    "kernelspec": {
      "name": "python3",
      "display_name": "Python 3"
    },
    "language_info": {
      "name": "python"
    }
  },
  "cells": [
    {
      "cell_type": "markdown",
      "source": [
        "Here we focus on specific interesting facts. We don't do too much statistical stuff, since these were partly covered in the preprocessing process and are not interesting and valueable for to the research"
      ],
      "metadata": {
        "id": "n7f7jN-BFSHW"
      }
    },
    {
      "cell_type": "code",
      "source": [
        "import pandas as pd\n",
        "from sklearn.metrics import accuracy_score\n",
        "import matplotlib.pyplot as plt"
      ],
      "metadata": {
        "id": "7JXfkGzkFSNb"
      },
      "execution_count": 15,
      "outputs": []
    },
    {
      "cell_type": "code",
      "source": [
        "df = pd.read_csv(\"/content/battles_1st_approach_eda.csv\") # not fully representative of the 1st approaches dataset, since it includes irrelevant columns for machine learning"
      ],
      "metadata": {
        "id": "h2CAY2GHm2Mf"
      },
      "execution_count": 16,
      "outputs": []
    },
    {
      "cell_type": "code",
      "source": [
        "df.head()"
      ],
      "metadata": {
        "colab": {
          "base_uri": "https://localhost:8080/",
          "height": 342
        },
        "id": "anFvREqOF8DX",
        "outputId": "4f515b60-f407-4feb-c80f-36d72c4dcaf6"
      },
      "execution_count": 17,
      "outputs": [
        {
          "output_type": "execute_result",
          "data": {
            "text/plain": [
              "   id                 battle_time  game_mode     p1_tag  p1_trophies  \\\n",
              "0   1  2024-04-08 14:32:06.000000     Ladder  2J200GLG8         6911   \n",
              "1   3  2024-04-08 14:28:14.000000  Ranked1v1  2J200GLG8         6911   \n",
              "2   4  2024-04-08 15:29:20.000000  Ranked1v1  RJCYQLJJ0         9000   \n",
              "3   5  2024-04-08 15:24:27.000000  Ranked1v1  RJCYQLJJ0         9000   \n",
              "4   6  2024-04-08 15:20:10.000000  Ranked1v1  RJCYQLJJ0         9000   \n",
              "\n",
              "   p1_best_trophies  p1_wins  p1_losses  p1_battle_count  p1_crowns  ...  \\\n",
              "0              6942     3336       2107             9197          1  ...   \n",
              "1              6942     3336       2107             9197          1  ...   \n",
              "2              9000     4737       4686            10510          1  ...   \n",
              "3              9000     4737       4686            10510          3  ...   \n",
              "4              9000     4737       4686            10510          2  ...   \n",
              "\n",
              "   p2_has_support_card_159000000 p1_has_support_card_159000001  \\\n",
              "0                              1                             0   \n",
              "1                              1                             0   \n",
              "2                              1                             0   \n",
              "3                              0                             0   \n",
              "4                              0                             0   \n",
              "\n",
              "  p2_has_support_card_159000001 p1_has_support_card_159000002  \\\n",
              "0                             0                             0   \n",
              "1                             0                             0   \n",
              "2                             0                             0   \n",
              "3                             0                             0   \n",
              "4                             1                             0   \n",
              "\n",
              "   p2_has_support_card_159000002  p1_has_support_card_159000003  \\\n",
              "0                              0                              0   \n",
              "1                              0                              0   \n",
              "2                              0                              0   \n",
              "3                              1                              0   \n",
              "4                              0                              0   \n",
              "\n",
              "   p2_has_support_card_159000003  winner  p1_avg_elixir_cost  \\\n",
              "0                              0       1                4.00   \n",
              "1                              0       1                4.00   \n",
              "2                              0       2                4.12   \n",
              "3                              0       1                4.12   \n",
              "4                              0       1                4.12   \n",
              "\n",
              "   p2_avg_elixir_cost  \n",
              "0                3.62  \n",
              "1                3.75  \n",
              "2                3.75  \n",
              "3                3.62  \n",
              "4                3.00  \n",
              "\n",
              "[5 rows x 268 columns]"
            ],
            "text/html": [
              "\n",
              "  <div id=\"df-69c4bf4f-1b8e-4e0b-b1b4-f526a8d6a8e1\" class=\"colab-df-container\">\n",
              "    <div>\n",
              "<style scoped>\n",
              "    .dataframe tbody tr th:only-of-type {\n",
              "        vertical-align: middle;\n",
              "    }\n",
              "\n",
              "    .dataframe tbody tr th {\n",
              "        vertical-align: top;\n",
              "    }\n",
              "\n",
              "    .dataframe thead th {\n",
              "        text-align: right;\n",
              "    }\n",
              "</style>\n",
              "<table border=\"1\" class=\"dataframe\">\n",
              "  <thead>\n",
              "    <tr style=\"text-align: right;\">\n",
              "      <th></th>\n",
              "      <th>id</th>\n",
              "      <th>battle_time</th>\n",
              "      <th>game_mode</th>\n",
              "      <th>p1_tag</th>\n",
              "      <th>p1_trophies</th>\n",
              "      <th>p1_best_trophies</th>\n",
              "      <th>p1_wins</th>\n",
              "      <th>p1_losses</th>\n",
              "      <th>p1_battle_count</th>\n",
              "      <th>p1_crowns</th>\n",
              "      <th>...</th>\n",
              "      <th>p2_has_support_card_159000000</th>\n",
              "      <th>p1_has_support_card_159000001</th>\n",
              "      <th>p2_has_support_card_159000001</th>\n",
              "      <th>p1_has_support_card_159000002</th>\n",
              "      <th>p2_has_support_card_159000002</th>\n",
              "      <th>p1_has_support_card_159000003</th>\n",
              "      <th>p2_has_support_card_159000003</th>\n",
              "      <th>winner</th>\n",
              "      <th>p1_avg_elixir_cost</th>\n",
              "      <th>p2_avg_elixir_cost</th>\n",
              "    </tr>\n",
              "  </thead>\n",
              "  <tbody>\n",
              "    <tr>\n",
              "      <th>0</th>\n",
              "      <td>1</td>\n",
              "      <td>2024-04-08 14:32:06.000000</td>\n",
              "      <td>Ladder</td>\n",
              "      <td>2J200GLG8</td>\n",
              "      <td>6911</td>\n",
              "      <td>6942</td>\n",
              "      <td>3336</td>\n",
              "      <td>2107</td>\n",
              "      <td>9197</td>\n",
              "      <td>1</td>\n",
              "      <td>...</td>\n",
              "      <td>1</td>\n",
              "      <td>0</td>\n",
              "      <td>0</td>\n",
              "      <td>0</td>\n",
              "      <td>0</td>\n",
              "      <td>0</td>\n",
              "      <td>0</td>\n",
              "      <td>1</td>\n",
              "      <td>4.00</td>\n",
              "      <td>3.62</td>\n",
              "    </tr>\n",
              "    <tr>\n",
              "      <th>1</th>\n",
              "      <td>3</td>\n",
              "      <td>2024-04-08 14:28:14.000000</td>\n",
              "      <td>Ranked1v1</td>\n",
              "      <td>2J200GLG8</td>\n",
              "      <td>6911</td>\n",
              "      <td>6942</td>\n",
              "      <td>3336</td>\n",
              "      <td>2107</td>\n",
              "      <td>9197</td>\n",
              "      <td>1</td>\n",
              "      <td>...</td>\n",
              "      <td>1</td>\n",
              "      <td>0</td>\n",
              "      <td>0</td>\n",
              "      <td>0</td>\n",
              "      <td>0</td>\n",
              "      <td>0</td>\n",
              "      <td>0</td>\n",
              "      <td>1</td>\n",
              "      <td>4.00</td>\n",
              "      <td>3.75</td>\n",
              "    </tr>\n",
              "    <tr>\n",
              "      <th>2</th>\n",
              "      <td>4</td>\n",
              "      <td>2024-04-08 15:29:20.000000</td>\n",
              "      <td>Ranked1v1</td>\n",
              "      <td>RJCYQLJJ0</td>\n",
              "      <td>9000</td>\n",
              "      <td>9000</td>\n",
              "      <td>4737</td>\n",
              "      <td>4686</td>\n",
              "      <td>10510</td>\n",
              "      <td>1</td>\n",
              "      <td>...</td>\n",
              "      <td>1</td>\n",
              "      <td>0</td>\n",
              "      <td>0</td>\n",
              "      <td>0</td>\n",
              "      <td>0</td>\n",
              "      <td>0</td>\n",
              "      <td>0</td>\n",
              "      <td>2</td>\n",
              "      <td>4.12</td>\n",
              "      <td>3.75</td>\n",
              "    </tr>\n",
              "    <tr>\n",
              "      <th>3</th>\n",
              "      <td>5</td>\n",
              "      <td>2024-04-08 15:24:27.000000</td>\n",
              "      <td>Ranked1v1</td>\n",
              "      <td>RJCYQLJJ0</td>\n",
              "      <td>9000</td>\n",
              "      <td>9000</td>\n",
              "      <td>4737</td>\n",
              "      <td>4686</td>\n",
              "      <td>10510</td>\n",
              "      <td>3</td>\n",
              "      <td>...</td>\n",
              "      <td>0</td>\n",
              "      <td>0</td>\n",
              "      <td>0</td>\n",
              "      <td>0</td>\n",
              "      <td>1</td>\n",
              "      <td>0</td>\n",
              "      <td>0</td>\n",
              "      <td>1</td>\n",
              "      <td>4.12</td>\n",
              "      <td>3.62</td>\n",
              "    </tr>\n",
              "    <tr>\n",
              "      <th>4</th>\n",
              "      <td>6</td>\n",
              "      <td>2024-04-08 15:20:10.000000</td>\n",
              "      <td>Ranked1v1</td>\n",
              "      <td>RJCYQLJJ0</td>\n",
              "      <td>9000</td>\n",
              "      <td>9000</td>\n",
              "      <td>4737</td>\n",
              "      <td>4686</td>\n",
              "      <td>10510</td>\n",
              "      <td>2</td>\n",
              "      <td>...</td>\n",
              "      <td>0</td>\n",
              "      <td>0</td>\n",
              "      <td>1</td>\n",
              "      <td>0</td>\n",
              "      <td>0</td>\n",
              "      <td>0</td>\n",
              "      <td>0</td>\n",
              "      <td>1</td>\n",
              "      <td>4.12</td>\n",
              "      <td>3.00</td>\n",
              "    </tr>\n",
              "  </tbody>\n",
              "</table>\n",
              "<p>5 rows × 268 columns</p>\n",
              "</div>\n",
              "    <div class=\"colab-df-buttons\">\n",
              "\n",
              "  <div class=\"colab-df-container\">\n",
              "    <button class=\"colab-df-convert\" onclick=\"convertToInteractive('df-69c4bf4f-1b8e-4e0b-b1b4-f526a8d6a8e1')\"\n",
              "            title=\"Convert this dataframe to an interactive table.\"\n",
              "            style=\"display:none;\">\n",
              "\n",
              "  <svg xmlns=\"http://www.w3.org/2000/svg\" height=\"24px\" viewBox=\"0 -960 960 960\">\n",
              "    <path d=\"M120-120v-720h720v720H120Zm60-500h600v-160H180v160Zm220 220h160v-160H400v160Zm0 220h160v-160H400v160ZM180-400h160v-160H180v160Zm440 0h160v-160H620v160ZM180-180h160v-160H180v160Zm440 0h160v-160H620v160Z\"/>\n",
              "  </svg>\n",
              "    </button>\n",
              "\n",
              "  <style>\n",
              "    .colab-df-container {\n",
              "      display:flex;\n",
              "      gap: 12px;\n",
              "    }\n",
              "\n",
              "    .colab-df-convert {\n",
              "      background-color: #E8F0FE;\n",
              "      border: none;\n",
              "      border-radius: 50%;\n",
              "      cursor: pointer;\n",
              "      display: none;\n",
              "      fill: #1967D2;\n",
              "      height: 32px;\n",
              "      padding: 0 0 0 0;\n",
              "      width: 32px;\n",
              "    }\n",
              "\n",
              "    .colab-df-convert:hover {\n",
              "      background-color: #E2EBFA;\n",
              "      box-shadow: 0px 1px 2px rgba(60, 64, 67, 0.3), 0px 1px 3px 1px rgba(60, 64, 67, 0.15);\n",
              "      fill: #174EA6;\n",
              "    }\n",
              "\n",
              "    .colab-df-buttons div {\n",
              "      margin-bottom: 4px;\n",
              "    }\n",
              "\n",
              "    [theme=dark] .colab-df-convert {\n",
              "      background-color: #3B4455;\n",
              "      fill: #D2E3FC;\n",
              "    }\n",
              "\n",
              "    [theme=dark] .colab-df-convert:hover {\n",
              "      background-color: #434B5C;\n",
              "      box-shadow: 0px 1px 3px 1px rgba(0, 0, 0, 0.15);\n",
              "      filter: drop-shadow(0px 1px 2px rgba(0, 0, 0, 0.3));\n",
              "      fill: #FFFFFF;\n",
              "    }\n",
              "  </style>\n",
              "\n",
              "    <script>\n",
              "      const buttonEl =\n",
              "        document.querySelector('#df-69c4bf4f-1b8e-4e0b-b1b4-f526a8d6a8e1 button.colab-df-convert');\n",
              "      buttonEl.style.display =\n",
              "        google.colab.kernel.accessAllowed ? 'block' : 'none';\n",
              "\n",
              "      async function convertToInteractive(key) {\n",
              "        const element = document.querySelector('#df-69c4bf4f-1b8e-4e0b-b1b4-f526a8d6a8e1');\n",
              "        const dataTable =\n",
              "          await google.colab.kernel.invokeFunction('convertToInteractive',\n",
              "                                                    [key], {});\n",
              "        if (!dataTable) return;\n",
              "\n",
              "        const docLinkHtml = 'Like what you see? Visit the ' +\n",
              "          '<a target=\"_blank\" href=https://colab.research.google.com/notebooks/data_table.ipynb>data table notebook</a>'\n",
              "          + ' to learn more about interactive tables.';\n",
              "        element.innerHTML = '';\n",
              "        dataTable['output_type'] = 'display_data';\n",
              "        await google.colab.output.renderOutput(dataTable, element);\n",
              "        const docLink = document.createElement('div');\n",
              "        docLink.innerHTML = docLinkHtml;\n",
              "        element.appendChild(docLink);\n",
              "      }\n",
              "    </script>\n",
              "  </div>\n",
              "\n",
              "\n",
              "<div id=\"df-364d807c-ac6a-4957-8ab2-3aff3a3b7207\">\n",
              "  <button class=\"colab-df-quickchart\" onclick=\"quickchart('df-364d807c-ac6a-4957-8ab2-3aff3a3b7207')\"\n",
              "            title=\"Suggest charts\"\n",
              "            style=\"display:none;\">\n",
              "\n",
              "<svg xmlns=\"http://www.w3.org/2000/svg\" height=\"24px\"viewBox=\"0 0 24 24\"\n",
              "     width=\"24px\">\n",
              "    <g>\n",
              "        <path d=\"M19 3H5c-1.1 0-2 .9-2 2v14c0 1.1.9 2 2 2h14c1.1 0 2-.9 2-2V5c0-1.1-.9-2-2-2zM9 17H7v-7h2v7zm4 0h-2V7h2v10zm4 0h-2v-4h2v4z\"/>\n",
              "    </g>\n",
              "</svg>\n",
              "  </button>\n",
              "\n",
              "<style>\n",
              "  .colab-df-quickchart {\n",
              "      --bg-color: #E8F0FE;\n",
              "      --fill-color: #1967D2;\n",
              "      --hover-bg-color: #E2EBFA;\n",
              "      --hover-fill-color: #174EA6;\n",
              "      --disabled-fill-color: #AAA;\n",
              "      --disabled-bg-color: #DDD;\n",
              "  }\n",
              "\n",
              "  [theme=dark] .colab-df-quickchart {\n",
              "      --bg-color: #3B4455;\n",
              "      --fill-color: #D2E3FC;\n",
              "      --hover-bg-color: #434B5C;\n",
              "      --hover-fill-color: #FFFFFF;\n",
              "      --disabled-bg-color: #3B4455;\n",
              "      --disabled-fill-color: #666;\n",
              "  }\n",
              "\n",
              "  .colab-df-quickchart {\n",
              "    background-color: var(--bg-color);\n",
              "    border: none;\n",
              "    border-radius: 50%;\n",
              "    cursor: pointer;\n",
              "    display: none;\n",
              "    fill: var(--fill-color);\n",
              "    height: 32px;\n",
              "    padding: 0;\n",
              "    width: 32px;\n",
              "  }\n",
              "\n",
              "  .colab-df-quickchart:hover {\n",
              "    background-color: var(--hover-bg-color);\n",
              "    box-shadow: 0 1px 2px rgba(60, 64, 67, 0.3), 0 1px 3px 1px rgba(60, 64, 67, 0.15);\n",
              "    fill: var(--button-hover-fill-color);\n",
              "  }\n",
              "\n",
              "  .colab-df-quickchart-complete:disabled,\n",
              "  .colab-df-quickchart-complete:disabled:hover {\n",
              "    background-color: var(--disabled-bg-color);\n",
              "    fill: var(--disabled-fill-color);\n",
              "    box-shadow: none;\n",
              "  }\n",
              "\n",
              "  .colab-df-spinner {\n",
              "    border: 2px solid var(--fill-color);\n",
              "    border-color: transparent;\n",
              "    border-bottom-color: var(--fill-color);\n",
              "    animation:\n",
              "      spin 1s steps(1) infinite;\n",
              "  }\n",
              "\n",
              "  @keyframes spin {\n",
              "    0% {\n",
              "      border-color: transparent;\n",
              "      border-bottom-color: var(--fill-color);\n",
              "      border-left-color: var(--fill-color);\n",
              "    }\n",
              "    20% {\n",
              "      border-color: transparent;\n",
              "      border-left-color: var(--fill-color);\n",
              "      border-top-color: var(--fill-color);\n",
              "    }\n",
              "    30% {\n",
              "      border-color: transparent;\n",
              "      border-left-color: var(--fill-color);\n",
              "      border-top-color: var(--fill-color);\n",
              "      border-right-color: var(--fill-color);\n",
              "    }\n",
              "    40% {\n",
              "      border-color: transparent;\n",
              "      border-right-color: var(--fill-color);\n",
              "      border-top-color: var(--fill-color);\n",
              "    }\n",
              "    60% {\n",
              "      border-color: transparent;\n",
              "      border-right-color: var(--fill-color);\n",
              "    }\n",
              "    80% {\n",
              "      border-color: transparent;\n",
              "      border-right-color: var(--fill-color);\n",
              "      border-bottom-color: var(--fill-color);\n",
              "    }\n",
              "    90% {\n",
              "      border-color: transparent;\n",
              "      border-bottom-color: var(--fill-color);\n",
              "    }\n",
              "  }\n",
              "</style>\n",
              "\n",
              "  <script>\n",
              "    async function quickchart(key) {\n",
              "      const quickchartButtonEl =\n",
              "        document.querySelector('#' + key + ' button');\n",
              "      quickchartButtonEl.disabled = true;  // To prevent multiple clicks.\n",
              "      quickchartButtonEl.classList.add('colab-df-spinner');\n",
              "      try {\n",
              "        const charts = await google.colab.kernel.invokeFunction(\n",
              "            'suggestCharts', [key], {});\n",
              "      } catch (error) {\n",
              "        console.error('Error during call to suggestCharts:', error);\n",
              "      }\n",
              "      quickchartButtonEl.classList.remove('colab-df-spinner');\n",
              "      quickchartButtonEl.classList.add('colab-df-quickchart-complete');\n",
              "    }\n",
              "    (() => {\n",
              "      let quickchartButtonEl =\n",
              "        document.querySelector('#df-364d807c-ac6a-4957-8ab2-3aff3a3b7207 button');\n",
              "      quickchartButtonEl.style.display =\n",
              "        google.colab.kernel.accessAllowed ? 'block' : 'none';\n",
              "    })();\n",
              "  </script>\n",
              "</div>\n",
              "\n",
              "    </div>\n",
              "  </div>\n"
            ],
            "application/vnd.google.colaboratory.intrinsic+json": {
              "type": "dataframe",
              "variable_name": "df"
            }
          },
          "metadata": {},
          "execution_count": 17
        }
      ]
    },
    {
      "cell_type": "code",
      "source": [
        "df.columns"
      ],
      "metadata": {
        "colab": {
          "base_uri": "https://localhost:8080/"
        },
        "id": "kf-vRYx-Gk0k",
        "outputId": "978a9957-e0df-4c83-8ba5-761d78e04476"
      },
      "execution_count": 18,
      "outputs": [
        {
          "output_type": "execute_result",
          "data": {
            "text/plain": [
              "Index(['id', 'battle_time', 'game_mode', 'p1_tag', 'p1_trophies',\n",
              "       'p1_best_trophies', 'p1_wins', 'p1_losses', 'p1_battle_count',\n",
              "       'p1_crowns',\n",
              "       ...\n",
              "       'p2_has_support_card_159000000', 'p1_has_support_card_159000001',\n",
              "       'p2_has_support_card_159000001', 'p1_has_support_card_159000002',\n",
              "       'p2_has_support_card_159000002', 'p1_has_support_card_159000003',\n",
              "       'p2_has_support_card_159000003', 'winner', 'p1_avg_elixir_cost',\n",
              "       'p2_avg_elixir_cost'],\n",
              "      dtype='object', length=268)"
            ]
          },
          "metadata": {},
          "execution_count": 18
        }
      ]
    },
    {
      "cell_type": "code",
      "source": [
        "# Baseline accuracy A\n",
        "# What happens, if we always predict, that the player with higher win rate wins?\n",
        "df_baseline_a = df[[\"p1_total_win_rate\",\"p2_total_win_rate\",\"winner\"]]\n",
        "df_baseline_a['predicted_winner'] = df_baseline_a.apply(lambda row: 1 if row['p1_total_win_rate'] >= row['p2_total_win_rate'] else 2, axis=1)\n",
        "\n",
        "accuracy = accuracy_score(df_baseline_a['winner'], df_baseline_a['predicted_winner'])\n",
        "\n",
        "print(\"Accuracy:\", accuracy)"
      ],
      "metadata": {
        "colab": {
          "base_uri": "https://localhost:8080/"
        },
        "id": "1F17ZA2znp3I",
        "outputId": "688fb655-64b4-4f73-aac8-7986b346f5d2"
      },
      "execution_count": 19,
      "outputs": [
        {
          "output_type": "stream",
          "name": "stdout",
          "text": [
            "Accuracy: 0.5725705935445051\n"
          ]
        },
        {
          "output_type": "stream",
          "name": "stderr",
          "text": [
            "<ipython-input-19-6e750fb5353c>:4: SettingWithCopyWarning: \n",
            "A value is trying to be set on a copy of a slice from a DataFrame.\n",
            "Try using .loc[row_indexer,col_indexer] = value instead\n",
            "\n",
            "See the caveats in the documentation: https://pandas.pydata.org/pandas-docs/stable/user_guide/indexing.html#returning-a-view-versus-a-copy\n",
            "  df_baseline_a['predicted_winner'] = df_baseline_a.apply(lambda row: 1 if row['p1_total_win_rate'] >= row['p2_total_win_rate'] else 2, axis=1)\n"
          ]
        }
      ]
    },
    {
      "cell_type": "code",
      "source": [
        "# Baseline accuracy B\n",
        "# What happens, if we always predict, that the player with less wasted elixir wins?\n",
        "df_baseline_b = df[[\"p1_elixir_leaked\", \"p2_elixir_leaked\", \"winner\"]]\n",
        "df_baseline_b['predicted_winner'] = df_baseline_b.apply(lambda row: 1 if row['p1_elixir_leaked'] <= row['p2_elixir_leaked'] else 2, axis=1)\n",
        "\n",
        "accuracy = accuracy_score(df_baseline_b['winner'], df_baseline_b['predicted_winner'])\n",
        "\n",
        "print(\"Accuracy:\", accuracy)"
      ],
      "metadata": {
        "colab": {
          "base_uri": "https://localhost:8080/"
        },
        "id": "AGdHe8rDoZor",
        "outputId": "0afbd21a-8fab-43a0-e04d-3c238194f679"
      },
      "execution_count": 20,
      "outputs": [
        {
          "output_type": "stream",
          "name": "stdout",
          "text": [
            "Accuracy: 0.5604504233463704\n"
          ]
        },
        {
          "output_type": "stream",
          "name": "stderr",
          "text": [
            "<ipython-input-20-f1996d52ce75>:4: SettingWithCopyWarning: \n",
            "A value is trying to be set on a copy of a slice from a DataFrame.\n",
            "Try using .loc[row_indexer,col_indexer] = value instead\n",
            "\n",
            "See the caveats in the documentation: https://pandas.pydata.org/pandas-docs/stable/user_guide/indexing.html#returning-a-view-versus-a-copy\n",
            "  df_baseline_b['predicted_winner'] = df_baseline_b.apply(lambda row: 1 if row['p1_elixir_leaked'] <= row['p2_elixir_leaked'] else 2, axis=1)\n"
          ]
        }
      ]
    },
    {
      "cell_type": "code",
      "source": [
        "# win rate for each card\n",
        "card_columns = [col for col in df.columns if col.startswith('p1_has_card_')]\n",
        "card_win_rates = {}\n",
        "\n",
        "for card_col in card_columns:\n",
        "    card_id = card_col.split('_')[-1]\n",
        "    p1_wins = df[(df[card_col] == 1) & (df['winner'] == 1)].shape[0]\n",
        "    p2_wins = df[(df[f'p2_has_card_{card_id}'] == 1) & (df['winner'] == 2)].shape[0]\n",
        "    both_have = df[(df[card_col] == 1) & (df[f'p2_has_card_{card_id}'] == 1)].shape[0]\n",
        "    total_games = df[(df[card_col] == 1) | (df[f'p2_has_card_{card_id}'] == 1)].shape[0]\n",
        "\n",
        "    win_rate = (p1_wins + p2_wins + 0.5 * both_have) / total_games if total_games > 0 else 0\n",
        "    card_win_rates[card_id] = win_rate\n",
        "\n",
        "# Sorted cards by win rate\n",
        "top_10_cards = sorted(card_win_rates.items(), key=lambda x: x[1], reverse=True)[:10]\n",
        "last_11_cards = sorted(card_win_rates.items(), key=lambda x: x[1])[:11]\n",
        "\n",
        "# Top 10\n",
        "print(\"Top 10 Cards with Highest Win Rate:\")\n",
        "for card_id, win_rate in top_10_cards:\n",
        "    print(f\"Card {card_id}: {win_rate:.2f}\")\n",
        "\n",
        "# Last 11\n",
        "print(\"\\nLast 10 Cards with Lowest Win Rate:\")\n",
        "for card_id, win_rate in last_11_cards:\n",
        "    print(f\"Card {card_id}: {win_rate:.2f}\")\n",
        "\n",
        "# Plot top 10\n",
        "plt.figure(figsize=(10, 5))\n",
        "plt.bar([f\"Card {card[0]}\" for card in top_10_cards], [card[1] for card in top_10_cards])\n",
        "plt.xlabel('Card ID')\n",
        "plt.ylabel('Win Rate')\n",
        "plt.title('Top 10 Cards with Highest Win Rate')\n",
        "plt.ylim(0, 1)\n",
        "plt.xticks(rotation=45)\n",
        "plt.show()\n",
        "\n",
        "# Plot last 11\n",
        "plt.figure(figsize=(10, 5))\n",
        "plt.bar([f\"Card {card[0]}\" for card in last_11_cards], [card[1] for card in last_11_cards])\n",
        "plt.xlabel('Card ID')\n",
        "plt.ylabel('Win Rate')\n",
        "plt.title('Last 11 Cards with Lowest Win Rate')\n",
        "plt.ylim(0, 1)\n",
        "plt.xticks(rotation=45)\n",
        "plt.show()\n"
      ],
      "metadata": {
        "colab": {
          "base_uri": "https://localhost:8080/",
          "height": 1000
        },
        "collapsed": true,
        "id": "qel-rGHepqcX",
        "outputId": "a50e1522-da00-46e7-ce44-a1c8b01b96d7"
      },
      "execution_count": 22,
      "outputs": [
        {
          "output_type": "stream",
          "name": "stdout",
          "text": [
            "Top 10 Cards with Highest Win Rate:\n",
            "Card 28000001: 0.74\n",
            "Card 26000064: 0.73\n",
            "Card 28000008: 0.69\n",
            "Card 28000011: 0.66\n",
            "Card 26000055: 0.65\n",
            "Card 28000023: 0.65\n",
            "Card 26000000: 0.63\n",
            "Card 27000012: 0.62\n",
            "Card 26000004: 0.62\n",
            "Card 26000041: 0.62\n",
            "\n",
            "Last 10 Cards with Lowest Win Rate:\n",
            "Card 26000099: 0.00\n",
            "Card 27000005: 0.33\n",
            "Card 28000024: 0.37\n",
            "Card 26000068: 0.41\n",
            "Card 28000006: 0.43\n",
            "Card 27000001: 0.44\n",
            "Card 28000016: 0.45\n",
            "Card 26000074: 0.45\n",
            "Card 28000013: 0.45\n",
            "Card 26000067: 0.46\n",
            "Card 26000097: 0.46\n"
          ]
        },
        {
          "output_type": "display_data",
          "data": {
            "text/plain": [
              "<Figure size 1000x500 with 1 Axes>"
            ],
            "image/png": "[encoded data removed]"
          },
          "metadata": {}
        },
        {
          "output_type": "display_data",
          "data": {
            "text/plain": [
              "<Figure size 1000x500 with 1 Axes>"
            ],
            "image/png": "[encoded data removed]"
          },
          "metadata": {}
        }
      ]
    },
    {
      "cell_type": "markdown",
      "source": [
        "We see, that one card has a win rate of 0. This is not a mistake. It is the newest card in the game and was not played back then, when the matches were retrieved from the Clash Royale API."
      ],
      "metadata": {
        "id": "C5k3cDy8Hbjq"
      }
    },
    {
      "cell_type": "code",
      "source": [
        "# use rate for each card\n",
        "card_columns = [col for col in df.columns if col.startswith('p1_has_card_')]\n",
        "card_use_rates = {}\n",
        "\n",
        "total_possible_uses = len(df) * 2\n",
        "for card_col in card_columns:\n",
        "    card_id = card_col.split('_')[-1]\n",
        "    p1_has_card = df[card_col]\n",
        "    p2_has_card = df[f'p2_has_card_{card_id}']\n",
        "\n",
        "    use_count = (p1_has_card + p2_has_card).sum() + df[(p1_has_card == 1) & (p2_has_card == 1)].shape[0]\n",
        "    card_use_rates[card_id] = use_count / total_possible_uses\n",
        "\n",
        "# Sorted cards by use rate\n",
        "top_10_cards = sorted(card_use_rates.items(), key=lambda x: x[1], reverse=True)[:10]\n",
        "last_11_cards = sorted(card_use_rates.items(), key=lambda x: x[1])[:11]\n",
        "\n",
        "# Top 10\n",
        "print(\"Top 10 Cards with Highest Use Rate:\")\n",
        "for card_id, use_rate in top_10_cards:\n",
        "    print(f\"Card {card_id}: {use_rate:.2f}\")\n",
        "\n",
        "# Last 11\n",
        "print(\"\\nLast 11 Cards with Lowest Use Rate:\")\n",
        "for card_id, use_rate in last_11_cards:\n",
        "    print(f\"Card {card_id}: {use_rate:.2f}\")\n",
        "\n",
        "# Top 10 plot\n",
        "plt.figure(figsize=(10, 5))\n",
        "plt.bar([f\"Card {card[0]}\" for card in top_10_cards], [card[1] for card in top_10_cards])\n",
        "plt.xlabel('Card ID')\n",
        "plt.ylabel('Use Rate')\n",
        "plt.title('Top 10 Cards with Highest Use Rate')\n",
        "plt.ylim(0, 1)\n",
        "plt.xticks(rotation=45)\n",
        "plt.show()\n",
        "\n",
        "# Last 11 plot\n",
        "plt.figure(figsize=(10, 5))\n",
        "plt.bar([f\"Card {card[0]}\" for card in last_11_cards], [card[1] for card in last_11_cards])\n",
        "plt.xlabel('Card ID')\n",
        "plt.ylabel('Use Rate')\n",
        "plt.title('Last 11 Cards with Lowest Use Rate')\n",
        "plt.ylim(0, 0.02)\n",
        "plt.xticks(rotation=45)\n",
        "plt.show()\n",
        "plt.figure(figsize=(10, 5))\n",
        "plt.bar([f\"Card {card[0]}\" for card in last_11_cards], [card[1] for card in last_11_cards])\n",
        "plt.xlabel('Card ID')\n",
        "plt.ylabel('Use Rate')\n",
        "plt.title('Last 11 Cards with Lowest Use Rate')\n",
        "plt.ylim(0, 1)\n",
        "plt.xticks(rotation=45)\n",
        "plt.show()"
      ],
      "metadata": {
        "colab": {
          "base_uri": "https://localhost:8080/",
          "height": 1000
        },
        "collapsed": true,
        "id": "s4_nu2zSunme",
        "outputId": "84f6fcdb-1798-4023-f4df-8543afb28f9c"
      },
      "execution_count": 23,
      "outputs": [
        {
          "output_type": "stream",
          "name": "stdout",
          "text": [
            "Top 10 Cards with Highest Use Rate:\n",
            "Card 28000001: 0.45\n",
            "Card 26000064: 0.42\n",
            "Card 28000008: 0.31\n",
            "Card 28000011: 0.31\n",
            "Card 26000055: 0.29\n",
            "Card 26000000: 0.25\n",
            "Card 26000011: 0.24\n",
            "Card 26000004: 0.23\n",
            "Card 26000041: 0.22\n",
            "Card 26000010: 0.21\n",
            "\n",
            "Last 11 Cards with Lowest Use Rate:\n",
            "Card 26000099: 0.00\n",
            "Card 27000005: 0.00\n",
            "Card 28000016: 0.00\n",
            "Card 26000028: 0.00\n",
            "Card 28000024: 0.01\n",
            "Card 26000053: 0.01\n",
            "Card 26000068: 0.01\n",
            "Card 26000096: 0.01\n",
            "Card 27000001: 0.01\n",
            "Card 26000097: 0.01\n",
            "Card 28000013: 0.01\n"
          ]
        },
        {
          "output_type": "display_data",
          "data": {
            "text/plain": [
              "<Figure size 1000x500 with 1 Axes>"
            ],
            "image/png": "[encoded data removed]"
          },
          "metadata": {}
        },
        {
          "output_type": "display_data",
          "data": {
            "text/plain": [
              "<Figure size 1000x500 with 1 Axes>"
            ],
            "image/png": "[encoded data removed]"
          },
          "metadata": {}
        },
        {
          "output_type": "display_data",
          "data": {
            "text/plain": [
              "<Figure size 1000x500 with 1 Axes>"
            ],
            "image/png": "[encoded data removed]"
          },
          "metadata": {}
        }
      ]
    },
    {
      "cell_type": "code",
      "source": [
        "df.columns"
      ],
      "metadata": {
        "colab": {
          "base_uri": "https://localhost:8080/"
        },
        "id": "A6VPOkXcHy0U",
        "outputId": "4eea8b32-7b38-4bc8-cd1e-f4fcefdb529b"
      },
      "execution_count": 24,
      "outputs": [
        {
          "output_type": "execute_result",
          "data": {
            "text/plain": [
              "Index(['id', 'battle_time', 'game_mode', 'p1_tag', 'p1_trophies',\n",
              "       'p1_best_trophies', 'p1_wins', 'p1_losses', 'p1_battle_count',\n",
              "       'p1_crowns',\n",
              "       ...\n",
              "       'p2_has_support_card_159000000', 'p1_has_support_card_159000001',\n",
              "       'p2_has_support_card_159000001', 'p1_has_support_card_159000002',\n",
              "       'p2_has_support_card_159000002', 'p1_has_support_card_159000003',\n",
              "       'p2_has_support_card_159000003', 'winner', 'p1_avg_elixir_cost',\n",
              "       'p2_avg_elixir_cost'],\n",
              "      dtype='object', length=268)"
            ]
          },
          "metadata": {},
          "execution_count": 24
        }
      ]
    },
    {
      "cell_type": "code",
      "source": [
        "df = pd.read_csv(\"/content/battles_1st_approach_eda.csv\")"
      ],
      "metadata": {
        "id": "Skly3Q0Yxn00"
      },
      "execution_count": 25,
      "outputs": []
    },
    {
      "cell_type": "code",
      "source": [
        "df[\"p1_avg_elixir_cost\"].mean()"
      ],
      "metadata": {
        "colab": {
          "base_uri": "https://localhost:8080/"
        },
        "id": "rcfq7ZaZxHht",
        "outputId": "ff495d25-a5ec-468a-f43b-16c90e7450d5"
      },
      "execution_count": 32,
      "outputs": [
        {
          "output_type": "execute_result",
          "data": {
            "text/plain": [
              "3.6317157347315945"
            ]
          },
          "metadata": {},
          "execution_count": 32
        }
      ]
    },
    {
      "cell_type": "code",
      "source": [
        "df[\"p2_avg_elixir_cost\"].mean()"
      ],
      "metadata": {
        "colab": {
          "base_uri": "https://localhost:8080/"
        },
        "id": "Baj0Dzi2IIWE",
        "outputId": "734d32bc-bca9-4d46-b9de-1525e72af529"
      },
      "execution_count": 33,
      "outputs": [
        {
          "output_type": "execute_result",
          "data": {
            "text/plain": [
              "3.663440710018481"
            ]
          },
          "metadata": {},
          "execution_count": 33
        }
      ]
    },
    {
      "cell_type": "code",
      "source": [
        "#avg. elixir cost\n",
        "((df[\"p1_avg_elixir_cost\"].mean() + df[\"p2_avg_elixir_cost\"].mean()) / 2).round(2)"
      ],
      "metadata": {
        "colab": {
          "base_uri": "https://localhost:8080/"
        },
        "id": "2ssVpOT3xLGG",
        "outputId": "2db49ea4-348a-4167-dfc2-76e94629e176"
      },
      "execution_count": 34,
      "outputs": [
        {
          "output_type": "execute_result",
          "data": {
            "text/plain": [
              "3.65"
            ]
          },
          "metadata": {},
          "execution_count": 34
        }
      ]
    },
    {
      "cell_type": "code",
      "source": [
        "df[\"p1_elixir_leaked\"].mean()"
      ],
      "metadata": {
        "colab": {
          "base_uri": "https://localhost:8080/"
        },
        "id": "b0qo3TMV_S82",
        "outputId": "96f3c97e-84bf-4f06-db89-5b1a7607ee39"
      },
      "execution_count": 35,
      "outputs": [
        {
          "output_type": "execute_result",
          "data": {
            "text/plain": [
              "3.8943658400309453"
            ]
          },
          "metadata": {},
          "execution_count": 35
        }
      ]
    },
    {
      "cell_type": "code",
      "source": [
        "df[\"p2_elixir_leaked\"].mean()"
      ],
      "metadata": {
        "colab": {
          "base_uri": "https://localhost:8080/"
        },
        "id": "PXhe_hE_IDs9",
        "outputId": "ce0135c8-5ea4-4667-fbd2-e53fb461db1e"
      },
      "execution_count": 36,
      "outputs": [
        {
          "output_type": "execute_result",
          "data": {
            "text/plain": [
              "3.9375729574074874"
            ]
          },
          "metadata": {},
          "execution_count": 36
        }
      ]
    },
    {
      "cell_type": "code",
      "source": [
        "#avg. elixir leaked\n",
        "((df[\"p1_elixir_leaked\"].mean() + df[\"p2_elixir_leaked\"].mean()) / 2).round(2)"
      ],
      "metadata": {
        "colab": {
          "base_uri": "https://localhost:8080/"
        },
        "id": "Bp41N9oWIGYC",
        "outputId": "ea66916b-50f6-4bde-debc-d4566b939a94"
      },
      "execution_count": 31,
      "outputs": [
        {
          "output_type": "execute_result",
          "data": {
            "text/plain": [
              "3.92"
            ]
          },
          "metadata": {},
          "execution_count": 31
        }
      ]
    },
    {
      "cell_type": "code",
      "source": [
        "df[\"p1_total_win_rate\"].mean()"
      ],
      "metadata": {
        "colab": {
          "base_uri": "https://localhost:8080/"
        },
        "id": "wYS6ENd3IVsv",
        "outputId": "fb2c715f-2bf3-4ec2-9680-f75440ca4d6e"
      },
      "execution_count": 37,
      "outputs": [
        {
          "output_type": "execute_result",
          "data": {
            "text/plain": [
              "1.2022336356212664"
            ]
          },
          "metadata": {},
          "execution_count": 37
        }
      ]
    },
    {
      "cell_type": "code",
      "source": [
        "df[\"p2_total_win_rate\"].mean()"
      ],
      "metadata": {
        "colab": {
          "base_uri": "https://localhost:8080/"
        },
        "id": "Q-xvKLK7IVyN",
        "outputId": "29d58fba-8dd2-4bf9-d960-b4a9ace7b031"
      },
      "execution_count": 38,
      "outputs": [
        {
          "output_type": "execute_result",
          "data": {
            "text/plain": [
              "1.153660979069068"
            ]
          },
          "metadata": {},
          "execution_count": 38
        }
      ]
    },
    {
      "cell_type": "code",
      "source": [
        "#avg. elixir leaked\n",
        "((df[\"p1_total_win_rate\"].mean() + df[\"p2_total_win_rate\"].mean()) / 2).round(2)"
      ],
      "metadata": {
        "colab": {
          "base_uri": "https://localhost:8080/"
        },
        "id": "8hKa88VYIV3C",
        "outputId": "73ec5e3f-888e-45ee-e90d-ff39d70ba66d"
      },
      "execution_count": 39,
      "outputs": [
        {
          "output_type": "execute_result",
          "data": {
            "text/plain": [
              "1.18"
            ]
          },
          "metadata": {},
          "execution_count": 39
        }
      ]
    },
    {
      "cell_type": "code",
      "source": [
        "#2nd approach\n",
        "df = pd.read_csv(\"/content/battles_2nd_approach_eda.csv\", sep=\";\")"
      ],
      "metadata": {
        "id": "1zTBWDlizEs_"
      },
      "execution_count": 42,
      "outputs": []
    },
    {
      "cell_type": "code",
      "source": [
        "df.columns"
      ],
      "metadata": {
        "colab": {
          "base_uri": "https://localhost:8080/"
        },
        "id": "3Svk6nxHzLna",
        "outputId": "e28cdcdc-0ec7-45cc-f916-7a52081e40f4"
      },
      "execution_count": 43,
      "outputs": [
        {
          "output_type": "execute_result",
          "data": {
            "text/plain": [
              "Index(['winner', 'p1_avg_elixir_cost_normalized', 'p1_elixir_leaked',\n",
              "       'p1_has_support_card_159000000', 'p1_has_support_card_159000001',\n",
              "       'p1_has_support_card_159000002', 'p1_has_support_card_159000003',\n",
              "       'p1_total_win_rate', 'p2_avg_elixir_cost_normalized',\n",
              "       'p2_elixir_leaked', 'p2_has_support_card_159000000',\n",
              "       'p2_has_support_card_159000001', 'p2_has_support_card_159000002',\n",
              "       'p2_has_support_card_159000003', 'p2_total_win_rate',\n",
              "       'p1_Air-Ground-Single-Attack', 'p2_Air-Ground-Single-Attack',\n",
              "       'p1_Air-Ground-Splash-Attack', 'p2_Air-Ground-Splash-Attack',\n",
              "       'p1_Building', 'p2_Building', 'p1_Detonation-Damage',\n",
              "       'p2_Detonation-Damage', 'p1_Earthquake-Spell', 'p2_Earthquake-Spell',\n",
              "       'p1_Ground-Single-Attack', 'p2_Ground-Single-Attack',\n",
              "       'p1_Ground-Splash-Attack', 'p2_Ground-Splash-Attack', 'p1_Heal-Skill',\n",
              "       'p2_Heal-Skill', 'p1_High-Air-Damage-Spell', 'p2_High-Air-Damage-Spell',\n",
              "       'p1_High-Damage', 'p2_High-Damage', 'p1_Inferno-Attack',\n",
              "       'p2_Inferno-Attack', 'p1_Low-Air-Damage-Spell',\n",
              "       'p2_Low-Air-Damage-Spell', 'p1_Low-Ground-Damage-Spell',\n",
              "       'p2_Low-Ground-Damage-Spell', 'p1_Mid-Air-Damage-Spell',\n",
              "       'p2_Mid-Air-Damage-Spell', 'p1_Monk', 'p2_Monk', 'p1_Mover-Skill',\n",
              "       'p2_Mover-Skill', 'p1_Prone-To-Zap', 'p2_Prone-To-Zap',\n",
              "       'p1_Shielded-Health', 'p2_Shielded-Health', 'p1_Single-Air-High-Health',\n",
              "       'p2_Single-Air-High-Health', 'p1_Single-Air-Medium-Health',\n",
              "       'p2_Single-Air-Medium-Health', 'p1_Single-Ground-High-Health',\n",
              "       'p2_Single-Ground-High-Health', 'p1_Single-Ground-Low-Health',\n",
              "       'p2_Single-Ground-Low-Health', 'p1_Single-Ground-Medium-Health',\n",
              "       'p2_Single-Ground-Medium-Health', 'p1_Slow-Down-Attack',\n",
              "       'p2_Slow-Down-Attack', 'p1_Spawnable-Everywhere',\n",
              "       'p2_Spawnable-Everywhere', 'p1_Spawns-Troops', 'p2_Spawns-Troops',\n",
              "       'p1_Straight-Tower-Building-Attack',\n",
              "       'p2_Straight-Tower-Building-Attack', 'p1_Troop-Air-Low-Health',\n",
              "       'p2_Troop-Air-Low-Health', 'p1_Troop-Air-Medium-Health',\n",
              "       'p2_Troop-Air-Medium-Health', 'p1_Troop-Ground-Low-Health',\n",
              "       'p2_Troop-Ground-Low-Health', 'p1_Troop-Ground-Medium-Health',\n",
              "       'p2_Troop-Ground-Medium-Health', 'p1_Utility-Spell', 'p2_Utility-Spell',\n",
              "       'p1_Zap-Attack', 'p2_Zap-Attack'],\n",
              "      dtype='object')"
            ]
          },
          "metadata": {},
          "execution_count": 43
        }
      ]
    },
    {
      "cell_type": "code",
      "source": [
        "# We want to focus on card categories\n",
        "card_category_columns = [\n",
        "    'p1_Air-Ground-Single-Attack', 'p2_Air-Ground-Single-Attack',\n",
        "    'p1_Air-Ground-Splash-Attack', 'p2_Air-Ground-Splash-Attack',\n",
        "    'p1_Building', 'p2_Building', 'p1_Detonation-Damage',\n",
        "    'p2_Detonation-Damage', 'p1_Earthquake-Spell', 'p2_Earthquake-Spell',\n",
        "    'p1_Ground-Single-Attack', 'p2_Ground-Single-Attack',\n",
        "    'p1_Ground-Splash-Attack', 'p2_Ground-Splash-Attack', 'p1_Heal-Skill',\n",
        "    'p2_Heal-Skill', 'p1_High-Air-Damage-Spell', 'p2_High-Air-Damage-Spell',\n",
        "    'p1_High-Damage', 'p2_High-Damage', 'p1_Inferno-Attack',\n",
        "    'p2_Inferno-Attack', 'p1_Low-Air-Damage-Spell',\n",
        "    'p2_Low-Air-Damage-Spell', 'p1_Low-Ground-Damage-Spell',\n",
        "    'p2_Low-Ground-Damage-Spell', 'p1_Mid-Air-Damage-Spell',\n",
        "    'p2_Mid-Air-Damage-Spell', 'p1_Monk', 'p2_Monk', 'p1_Mover-Skill',\n",
        "    'p2_Mover-Skill', 'p1_Prone-To-Zap', 'p2_Prone-To-Zap',\n",
        "    'p1_Shielded-Health', 'p2_Shielded-Health', 'p1_Single-Air-High-Health',\n",
        "    'p2_Single-Air-High-Health', 'p1_Single-Air-Medium-Health',\n",
        "    'p2_Single-Air-Medium-Health', 'p1_Single-Ground-High-Health',\n",
        "    'p2_Single-Ground-High-Health', 'p1_Single-Ground-Low-Health',\n",
        "    'p2_Single-Ground-Low-Health', 'p1_Single-Ground-Medium-Health',\n",
        "    'p2_Single-Ground-Medium-Health', 'p1_Slow-Down-Attack',\n",
        "    'p2_Slow-Down-Attack', 'p1_Spawnable-Everywhere',\n",
        "    'p2_Spawnable-Everywhere', 'p1_Spawns-Troops', 'p2_Spawns-Troops',\n",
        "    'p1_Straight-Tower-Building-Attack',\n",
        "    'p2_Straight-Tower-Building-Attack', 'p1_Troop-Air-Low-Health',\n",
        "    'p2_Troop-Air-Low-Health', 'p1_Troop-Air-Medium-Health',\n",
        "    'p2_Troop-Air-Medium-Health', 'p1_Troop-Ground-Low-Health',\n",
        "    'p2_Troop-Ground-Low-Health', 'p1_Troop-Ground-Medium-Health',\n",
        "    'p2_Troop-Ground-Medium-Health', 'p1_Utility-Spell', 'p2_Utility-Spell',\n",
        "    'p1_Zap-Attack', 'p2_Zap-Attack'\n",
        "]\n",
        "\n",
        "# Calculate the mean over all rows for each column\n",
        "mean_values = df[card_category_columns].mean()\n",
        "\n",
        "sorted_mean_values = mean_values.sort_values(ascending=False)\n",
        "\n",
        "print(\"Mean Values for All Card Categories (Sorted by Highest Value):\")\n",
        "for column, mean_value in sorted_mean_values.items():\n",
        "    print(f\"{column}: {mean_value:.2f}\")"
      ],
      "metadata": {
        "colab": {
          "base_uri": "https://localhost:8080/"
        },
        "id": "3qZvyyJT1LPX",
        "outputId": "acc441fb-1500-4074-8c87-2865cccfc7e4"
      },
      "execution_count": 44,
      "outputs": [
        {
          "output_type": "stream",
          "name": "stdout",
          "text": [
            "Mean Values for All Card Categories (Sorted by Highest Value):\n",
            "p2_Single-Ground-Medium-Health: 3.00\n",
            "p1_Single-Ground-Medium-Health: 2.78\n",
            "p2_Ground-Single-Attack: 2.69\n",
            "p1_Ground-Single-Attack: 2.64\n",
            "p1_Air-Ground-Single-Attack: 1.34\n",
            "p2_Air-Ground-Single-Attack: 1.32\n",
            "p2_Troop-Ground-Low-Health: 1.29\n",
            "p2_Air-Ground-Splash-Attack: 1.19\n",
            "p1_Troop-Ground-Low-Health: 1.18\n",
            "p1_Air-Ground-Splash-Attack: 1.12\n",
            "p1_Straight-Tower-Building-Attack: 0.96\n",
            "p1_Single-Ground-Low-Health: 0.96\n",
            "p2_Straight-Tower-Building-Attack: 0.92\n",
            "p2_High-Damage: 0.92\n",
            "p2_Ground-Splash-Attack: 0.91\n",
            "p1_High-Damage: 0.90\n",
            "p2_Single-Ground-Low-Health: 0.90\n",
            "p1_Mid-Air-Damage-Spell: 0.82\n",
            "p1_Ground-Splash-Attack: 0.81\n",
            "p2_Mover-Skill: 0.80\n",
            "p2_Mid-Air-Damage-Spell: 0.76\n",
            "p1_Mover-Skill: 0.75\n",
            "p2_Single-Ground-High-Health: 0.73\n",
            "p1_Single-Ground-High-Health: 0.70\n",
            "p1_Prone-To-Zap: 0.66\n",
            "p2_Prone-To-Zap: 0.64\n",
            "p1_Detonation-Damage: 0.58\n",
            "p1_Low-Air-Damage-Spell: 0.57\n",
            "p1_Building: 0.54\n",
            "p2_Low-Air-Damage-Spell: 0.53\n",
            "p1_Zap-Attack: 0.51\n",
            "p2_Building: 0.51\n",
            "p2_Zap-Attack: 0.48\n",
            "p2_Detonation-Damage: 0.48\n",
            "p1_Single-Air-Medium-Health: 0.48\n",
            "p2_Troop-Ground-Medium-Health: 0.47\n",
            "p1_Troop-Ground-Medium-Health: 0.47\n",
            "p1_Low-Ground-Damage-Spell: 0.39\n",
            "p2_Low-Ground-Damage-Spell: 0.38\n",
            "p2_Single-Air-Medium-Health: 0.37\n",
            "p2_Spawns-Troops: 0.31\n",
            "p1_Spawns-Troops: 0.29\n",
            "p1_Shielded-Health: 0.26\n",
            "p2_Spawnable-Everywhere: 0.25\n",
            "p2_Slow-Down-Attack: 0.25\n",
            "p1_Inferno-Attack: 0.25\n",
            "p1_Slow-Down-Attack: 0.24\n",
            "p2_Shielded-Health: 0.24\n",
            "p1_Spawnable-Everywhere: 0.24\n",
            "p2_Inferno-Attack: 0.20\n",
            "p2_Utility-Spell: 0.19\n",
            "p1_Utility-Spell: 0.19\n",
            "p1_Troop-Air-Low-Health: 0.17\n",
            "p1_Troop-Air-Medium-Health: 0.09\n",
            "p1_Single-Air-High-Health: 0.09\n",
            "p2_High-Air-Damage-Spell: 0.09\n",
            "p1_High-Air-Damage-Spell: 0.08\n",
            "p2_Troop-Air-Low-Health: 0.07\n",
            "p1_Earthquake-Spell: 0.04\n",
            "p2_Earthquake-Spell: 0.04\n",
            "p2_Troop-Air-Medium-Health: 0.03\n",
            "p2_Single-Air-High-Health: 0.02\n",
            "p2_Heal-Skill: 0.02\n",
            "p2_Monk: 0.02\n",
            "p1_Monk: 0.01\n",
            "p1_Heal-Skill: 0.00\n"
          ]
        }
      ]
    }
  ]
}